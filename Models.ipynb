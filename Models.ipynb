{
 "cells": [
  {
   "cell_type": "code",
   "execution_count": 1,
   "metadata": {},
   "outputs": [],
   "source": [
    "#Test.py\n",
    "import torch\n",
    "import torch.nn as nn\n",
    "import numpy as np\n",
    "\n",
    "from models import vanilla_model\n",
    "\n",
    "def load_xyFz_model_and_scaling():\n",
    "    model = vanilla_model(15, feature_dim=40, feat_hidden=[200,200], activation_fn=nn.ReLU,\n",
    "                            feat_activation=None, output_hidden=[200,200],\n",
    "                            output_activation=nn.ReLU)\n",
    "    \n",
    "    input_scaling = np.loadtxt('./input_scaling.txt')\n",
    "    output_scaling = np.array([1./16, 1./16, 1/3.])\n",
    "    model.load_state_dict(torch.load('./weights'))\n",
    "\n",
    "    return model, input_scaling, output_scaling\n",
    "\n",
    "if __name__ =='__main__':\n",
    "    load_xyFz_model_and_scaling()\n",
    "    # Inputs to the model must be (Change in Magnetic Field/input_scaling)\n",
    "    # Model output must be scaled as (output/output_scaling). Units are (mm,mm,N)."
   ]
  },
  {
   "cell_type": "code",
   "execution_count": 2,
   "metadata": {},
   "outputs": [
    {
     "name": "stdout",
     "output_type": "stream",
     "text": [
      "Collecting torch\n",
      "  Downloading torch-1.11.0-cp38-cp38-win_amd64.whl (158.0 MB)\n",
      "Requirement already satisfied: typing-extensions in c:\\users\\timku\\anaconda3\\lib\\site-packages (from torch) (3.7.4.3)\n",
      "Installing collected packages: torch\n",
      "Successfully installed torch-1.11.0\n",
      "Note: you may need to restart the kernel to use updated packages.\n"
     ]
    }
   ],
   "source": [
    "pip install torch"
   ]
  },
  {
   "cell_type": "code",
   "execution_count": 2,
   "metadata": {},
   "outputs": [],
   "source": [
    "#Models.py\n",
    "import os\n",
    "import numpy as np\n",
    "import torch\n",
    "import torch.nn as nn\n",
    "from torch.autograd import Function\n",
    "\n",
    "class simpleMLP(nn.Module):\n",
    "    def __init__(self, n_input, n_output, hidden_dims=[64,64], \n",
    "        activation_fn = nn.Tanh, output_activation = None):\n",
    "        super(simpleMLP,self).__init__()\n",
    "        self.n_input = n_input\n",
    "        self.n_output = n_output\n",
    "        \n",
    "        layer_dims = [n_input] + hidden_dims + [n_output]\n",
    "        layers = []\n",
    "\n",
    "        for d in range(len(layer_dims)-1):\n",
    "            layers.append(nn.Linear(layer_dims[d], layer_dims[d+1]))\n",
    "            if d < len(layer_dims) - 2:\n",
    "                layers.append(activation_fn())\n",
    "        \n",
    "        if output_activation is not None:\n",
    "            layers.append(output_activation())\n",
    "\n",
    "        self.model = nn.Sequential(*layers)\n",
    "    \n",
    "    def forward(self, inputs):\n",
    "        return self.model(inputs)\n",
    "\n",
    "class vanilla_model(nn.Module):\n",
    "    def __init__(self, n_input, feature_dim=20, feat_hidden=[64,64], activation_fn=nn.Tanh,\n",
    "        feat_activation=None, output_hidden=[64,64],output_activation=None,\n",
    "        pred_Fz=True, pred_Fxy=False):\n",
    "        super(vanilla_model, self).__init__()\n",
    "        self.n_input = n_input\n",
    "        self.n_output = 2 + int(pred_Fz) + 2*int(pred_Fxy)\n",
    "        self.feature_dim = feature_dim\n",
    "        self.feat_model = simpleMLP(n_input=n_input, n_output=feature_dim, \n",
    "            hidden_dims=feat_hidden, activation_fn=activation_fn, \n",
    "            output_activation=feat_activation\n",
    "        )\n",
    "        self.output_model = simpleMLP(feature_dim, self.n_output, hidden_dims=output_hidden,\n",
    "            activation_fn=activation_fn, output_activation=output_activation)\n",
    "\n",
    "    def forward(self, sens):\n",
    "        return self.output_model(self.get_feature(sens))\n",
    "\n",
    "    def get_feature(self, sens):\n",
    "        return self.feat_model(sens)\n",
    "    \n",
    "    def get_out_from_feature(self, feature):\n",
    "        return self.output_model(feature)"
   ]
  },
  {
   "cell_type": "code",
   "execution_count": null,
   "metadata": {},
   "outputs": [],
   "source": []
  }
 ],
 "metadata": {
  "kernelspec": {
   "display_name": "Python 3",
   "language": "python",
   "name": "python3"
  },
  "language_info": {
   "codemirror_mode": {
    "name": "ipython",
    "version": 3
   },
   "file_extension": ".py",
   "mimetype": "text/x-python",
   "name": "python",
   "nbconvert_exporter": "python",
   "pygments_lexer": "ipython3",
   "version": "3.8.5"
  }
 },
 "nbformat": 4,
 "nbformat_minor": 4
}
